{
 "cells": [
  {
   "cell_type": "markdown",
   "metadata": {},
   "source": [
    "## Exploratory data Analysis for customer churn\n"
   ]
  },
  {
   "cell_type": "markdown",
   "metadata": {},
   "source": [
    "### Motivation of this project\n",
    "I worked in Telecom industry and currently Telecom industry is facing tought competion and retaining existing customer is highest is priority. \n",
    "upon searching for dataset, I found one dataset in Kaggele which is open source and freely available to do data analysis for telecom industry customer churn\n",
    "https://www.kaggle.com/jpacse/datasets-for-churn-telecom\n"
   ]
  },
  {
   "cell_type": "markdown",
   "metadata": {},
   "source": [
    "### Libraries used\n",
    "I used pandas to do data manupulation and analysis and matplotlib for data visualization "
   ]
  },
  {
   "cell_type": "markdown",
   "metadata": {},
   "source": [
    "### Files in repository\n",
    "1. ChrunDetection.ipynb , Jupyter notebook used for data analysis\n",
    "2. customerChurn.py, python script for data analysis. \n",
    "3. cell2celltrain.csv data set used for analysis\n",
    "4. various png files, saved graphs generated for data visualazation by python script"
   ]
  }
 ],
 "metadata": {
  "kernelspec": {
   "display_name": "Python 3",
   "language": "python",
   "name": "python3"
  },
  "language_info": {
   "codemirror_mode": {
    "name": "ipython",
    "version": 3
   },
   "file_extension": ".py",
   "mimetype": "text/x-python",
   "name": "python",
   "nbconvert_exporter": "python",
   "pygments_lexer": "ipython3",
   "version": "3.7.4"
  }
 },
 "nbformat": 4,
 "nbformat_minor": 2
}
